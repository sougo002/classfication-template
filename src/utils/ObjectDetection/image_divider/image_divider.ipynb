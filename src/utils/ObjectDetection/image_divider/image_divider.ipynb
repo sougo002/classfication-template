{
 "metadata": {
  "language_info": {
   "codemirror_mode": {
    "name": "ipython",
    "version": 3
   },
   "file_extension": ".py",
   "mimetype": "text/x-python",
   "name": "python",
   "nbconvert_exporter": "python",
   "pygments_lexer": "ipython3",
   "version": "3.7.7"
  },
  "orig_nbformat": 2,
  "kernelspec": {
   "name": "python377jvsc74a57bd0dec482680d109e297416bbc2e7604aca1d8cdbc93b2b0a6fe0f4614d24eccb8c",
   "display_name": "Python 3.7.7 64-bit"
  }
 },
 "nbformat": 4,
 "nbformat_minor": 2,
 "cells": [
  {
   "cell_type": "code",
   "execution_count": 28,
   "metadata": {
    "tags": []
   },
   "outputs": [
    {
     "output_type": "stream",
     "name": "stdout",
     "text": [
      "0 0.464638 0.629167 0.125822 0.137745\nhere\n0 0.851151 0.575735 0.098684 0.102451\n0 0.776933 0.737010 0.109786 0.148529\n0 0.695312 0.122059 0.101151 0.109804\n0 0.583265 0.052696 0.100740 0.090686\n0 0.248561 0.297794 0.109786 0.114216\n0 0.082442 0.074265 0.088405 0.122059\n1 0.507196 0.208824 0.093339 0.135294\n1 0.707031 0.026471 0.102385 0.051961\n1 0.682566 0.055147 0.075658 0.098529\n1 0.062294 0.529902 0.123766 0.107843\nhere\n1 0.725123 0.855147 0.098273 0.099510\nempty line\n"
     ]
    }
   ],
   "source": [
    "import PIL as Image\n",
    "import cv2\n",
    "import imghdr\n",
    "from pathlib import Path\n",
    "from matplotlib import pyplot as plt\n",
    "\n",
    "dist_dir = Path('./divided/')\n",
    "dist_dir.mkdir(parents=True,exist_ok=True)\n",
    "image_folder = Path('./')\n",
    "for image_path in image_folder.iterdir():\n",
    "    if image_path.is_dir():\n",
    "        continue\n",
    "    if not imghdr.what(image_path):\n",
    "        continue\n",
    "    image_name = image_path.stem\n",
    "    label_file = image_name + '.txt'\n",
    "    #画像を4分割して保存\n",
    "    image = cv2.imread(str(image_path))\n",
    "    height, width, _ = image.shape\n",
    "    divide_image_list = []\n",
    "    #左上\n",
    "    divide_image_list.append(image[:(height//2), :(width//2), :])\n",
    "    #左下\n",
    "    divide_image_list.append(image[(height//2):, :(width//2), :])\n",
    "    #右上\n",
    "    divide_image_list.append(image[:(height//2), (width//2):, :])\n",
    "    #右下\n",
    "    divide_image_list.append(image[(height//2):, (width//2):, :])\n",
    "\n",
    "    #画像保存\n",
    "    for index,divided_image in enumerate(divide_image_list):\n",
    "        cv2.imwrite(str(dist_dir/(image_name+'-'+str(index+1)+'.png')),divided_image)\n",
    "    #label分割、保存\n",
    "    #初期化\n",
    "    for i in range(1,5):\n",
    "        with open(str(dist_dir) + '/' + image_name + '-' + str(i) + '.txt', 'w') as f:\n",
    "            f.write('')\n",
    "    with open(label_file, 'r') as f:\n",
    "        f = f.read()\n",
    "        anotations = f.split('\\n')\n",
    "    for anotation in anotations:\n",
    "        if anotation == '':\n",
    "            print('empty line')\n",
    "            continue\n",
    "        print(anotation)\n",
    "        label, x_center, y_center, width, height = anotation.split(' ')\n",
    "        x_center = float(x_center)\n",
    "        y_center = float(y_center)\n",
    "        width = float(width)\n",
    "        height = float(height)\n",
    "        #centerが0.5以上かどうかでわける\n",
    "        #大きさは倍にする→はみ出すやつはどうするのか→センターを調整する\n",
    "        #減らした量の半分を移動させる\n",
    "\n",
    "        #左上\n",
    "        if x_center < 0.5 and y_center < 0.5:\n",
    "            with open(str(dist_dir) + '/' + image_name + '-1.txt', 'a') as f:\n",
    "                x_diff = x_center + width/2 - 0.5\n",
    "                y_diff = y_center + height/2 - 0.5\n",
    "                if x_diff >= 0:\n",
    "                    x_center -= x_diff/2\n",
    "                    width  -= x_diff/2\n",
    "                if y_diff >= 0:\n",
    "                    y_center -= y_diff/2\n",
    "                    height -= y_diff/2\n",
    "                print(label, f'{x_center*2:.6f}', f'{y_center*2:.6f}', f'{width*2:.6f}', f'{height*2:.6f}', file=f)\n",
    "        #左下\n",
    "        elif x_center < 0.5 and y_center >= 0.5:\n",
    "            with open(str(dist_dir) + '/' + image_name + '-2.txt', 'a') as f:\n",
    "                x_diff = x_center + width/2 - 0.5\n",
    "                y_diff = 0.5 + height/2 - y_center\n",
    "                if x_diff >= 0:\n",
    "                    x_center -= x_diff/2\n",
    "                    width  -= x_diff/2\n",
    "                if y_diff >= 0:\n",
    "                    y_center += y_diff/2\n",
    "                    height -= y_diff/2\n",
    "                print('here')\n",
    "                print(label, f'{x_center*2:.6f}', f'{(y_center-0.5)*2:.6f}', f'{width*2:.6f}', f'{height*2:.6f}', file=f)\n",
    "        #右上\n",
    "        elif x_center >= 0.5 and y_center < 0.5:\n",
    "            with open(str(dist_dir) + '/' + image_name + '-3.txt', 'a') as f:\n",
    "                x_diff = 0.5 + width/2 - x_center\n",
    "                y_diff = y_center + height/2 - 0.5\n",
    "                if x_diff >= 0:\n",
    "                    x_center += x_diff/2\n",
    "                    width  -= x_diff/2\n",
    "                if y_diff >= 0:\n",
    "                    y_center -= y_diff/2\n",
    "                    height -= y_diff/2\n",
    "                print(label, f'{(x_center-0.5)*2:.6f}', f'{y_center*2:.6f}', f'{width*2:.6f}', f'{height*2:.6f}', file=f)\n",
    "        #右下\n",
    "        elif x_center >= 0.5 and y_center >= 0.5:\n",
    "            with open(str(dist_dir) + '/' + image_name + '-4.txt', 'a') as f:\n",
    "                x_diff = 0.5 + width/2 - x_center\n",
    "                y_diff = 0.5 + height/2 - y_center\n",
    "                if x_diff >= 0:\n",
    "                    x_center += x_diff/2\n",
    "                    width  -= x_diff/2\n",
    "                if y_diff >= 0:\n",
    "                    y_center += y_diff/2\n",
    "                    height -= y_diff/2\n",
    "                print(label, f'{(x_center-0.5)*2:.6f}', f'{(y_center-0.5)*2:.6f}', f'{width*2:.6f}', f'{height*2:.6f}', file=f)"
   ]
  },
  {
   "cell_type": "code",
   "execution_count": 18,
   "metadata": {},
   "outputs": [
    {
     "output_type": "execute_result",
     "data": {
      "text/plain": [
       "'divided'"
      ]
     },
     "metadata": {},
     "execution_count": 18
    }
   ],
   "source": []
  },
  {
   "cell_type": "code",
   "execution_count": null,
   "metadata": {},
   "outputs": [],
   "source": []
  }
 ]
}